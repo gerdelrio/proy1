{
 "cells": [
  {
   "cell_type": "markdown",
   "metadata": {},
   "source": [
    "Ejercitación Básica en Python\n",
    "\n",
    "Los siguientes ejercicios tienen como objetivo introducir al alumno en la programación en Python.\n",
    "Los mismos están ordenados por dificultad ascendente y fueron extraídos de http://www.practicepython.org/. En dicha página hay información adicional sobre cada ejercicio. Se recomienda leer cada link con detenimiento ya que los recursos para realizar la resolución se encuentran explicados con detalle.\n"
   ]
  },
  {
   "cell_type": "markdown",
   "metadata": {},
   "source": [
    "Ejercicio 1:\n",
    "\n",
    "•Escribir un programa que pregunte al usuario su nombre y la edad.\n",
    "\n",
    "•Imprimir un mensaje dirigido al usuario que le diga en qué año va a tener 100 años.\n"
   ]
  },
  {
   "cell_type": "code",
   "execution_count": 13,
   "metadata": {
    "collapsed": false
   },
   "outputs": [
    {
     "name": "stdout",
     "output_type": "stream",
     "text": [
      "Dame tu nombre: Germán\n",
      "Dame tu edad: 31\n",
      "Tu nombre es Germán, y tu edad es 31.\n"
     ]
    }
   ],
   "source": [
    "name = input(\"Dame tu nombre: \")\n",
    "age = int(input(\"Dame tu edad: \"))\n",
    "print(\"Tu nombre es \" + name + \", y tu edad es \" + str(age) + \".\")"
   ]
  },
  {
   "cell_type": "markdown",
   "metadata": {},
   "source": [
    "Ejercicio 2\n",
    "\n",
    "•Pedir al usuario que ingrese un número.\n",
    "\n",
    "•Imprimir un mensaje indicando si el número es par o impar.\n"
   ]
  },
  {
   "cell_type": "code",
   "execution_count": 12,
   "metadata": {
    "collapsed": false
   },
   "outputs": [
    {
     "name": "stdout",
     "output_type": "stream",
     "text": [
      "Give me a number: 3\n",
      "Tu número es impar.\n"
     ]
    }
   ],
   "source": [
    "num = int(input(\"Give me a number: \"))\n",
    "modulo = num % 2\n",
    "if modulo ==0:\n",
    "    print(\"Tu número es par.\")\n",
    "else:\n",
    "    print(\"Tu número es impar.\")"
   ]
  },
  {
   "cell_type": "markdown",
   "metadata": {},
   "source": [
    "Ejercicio 3:\n",
    "\n",
    "•Escribir un programa que imprima todos los elementos de una lista que sean menores al 5.\n"
   ]
  },
  {
   "cell_type": "code",
   "execution_count": 25,
   "metadata": {
    "collapsed": false,
    "scrolled": true
   },
   "outputs": [
    {
     "name": "stdout",
     "output_type": "stream",
     "text": [
      "1\n",
      "1\n",
      "2\n",
      "3\n"
     ]
    }
   ],
   "source": [
    "a = [1, 1, 2, 3, 5, 8, 13, 21, 34, 55, 89]\n",
    "\n",
    "for i in a:\n",
    "    if i < 5:\n",
    "        print(i)"
   ]
  },
  {
   "cell_type": "markdown",
   "metadata": {},
   "source": [
    "Ejercicio 4\n",
    "\n",
    "•Pedir al usuario que ingrese un número.\n",
    "\n",
    "•Imprimir todos los divisores del número ingresado.\n"
   ]
  },
  {
   "cell_type": "code",
   "execution_count": 27,
   "metadata": {
    "collapsed": false
   },
   "outputs": [
    {
     "name": "stdout",
     "output_type": "stream",
     "text": [
      "Give me a number: 10\n",
      "1\n",
      "2\n",
      "5\n",
      "10\n"
     ]
    }
   ],
   "source": [
    "a = int(input(\"Give me a number: \"))\n",
    "x = range(1, a + 1)\n",
    "for i in x:\n",
    "    if a % i == 0:\n",
    "        print(i)"
   ]
  },
  {
   "cell_type": "markdown",
   "metadata": {},
   "source": [
    "Ejercicio 5\n",
    "\n",
    "•Escribir un programa que a partir de dos listas, devuelva los elementos comunes entre las dos listas.\n",
    "\n",
    "•La salida deberá no tener elementos duplicados.\n",
    "\n",
    "•Asegúrese que su programa funcione para dos listas de distintos tamaños.\n"
   ]
  },
  {
   "cell_type": "code",
   "execution_count": 41,
   "metadata": {
    "collapsed": false
   },
   "outputs": [
    {
     "name": "stdout",
     "output_type": "stream",
     "text": [
      "[1, 2, 3, 5, 8, 13]\n"
     ]
    }
   ],
   "source": [
    "a = [1, 1, 2, 3, 5, 8, 13, 21, 34, 55, 89]\n",
    "b = [1, 2, 3, 4, 5, 6, 7, 8, 9, 10, 11, 12, 13, 5]\n",
    "\n",
    "c = []\n",
    "\n",
    "for i in a:\n",
    "    if (i in b) and (i not in c):\n",
    "        c.append(i)\n",
    "print(c)"
   ]
  },
  {
   "cell_type": "markdown",
   "metadata": {},
   "source": [
    "Ejercicio 6\n",
    "\n",
    "•Pedir al usuario que ingrese un texto.\n",
    "\n",
    "•Imprimir un mensaje que indique si el texto ingresado es un paĺíndromo o no.\n"
   ]
  },
  {
   "cell_type": "code",
   "execution_count": null,
   "metadata": {
    "collapsed": true
   },
   "outputs": [],
   "source": []
  },
  {
   "cell_type": "markdown",
   "metadata": {},
   "source": [
    "Ejercicio 7\n",
    "\n",
    "•Escribir un programa que a partir de una lista, devuelva una lista que solo contenga los elementos pares.\n",
    "\n",
    "•La selección de elementos deberá hacerse en una sola línea de código.\n"
   ]
  },
  {
   "cell_type": "code",
   "execution_count": null,
   "metadata": {
    "collapsed": true
   },
   "outputs": [],
   "source": []
  },
  {
   "cell_type": "markdown",
   "metadata": {},
   "source": [
    "Ejercicio 10\n",
    "\n",
    "•Al igual que en el ejercicio 5, a partir de dos listas, se ddeberán devolver los elementos comunes entre las dos listas.\n",
    "\n",
    "•La salida deberá no tener elementos duplicados.\n",
    "\n",
    "•Se deberán utilizar list comprenhensions.\n"
   ]
  },
  {
   "cell_type": "code",
   "execution_count": null,
   "metadata": {
    "collapsed": true
   },
   "outputs": [],
   "source": []
  },
  {
   "cell_type": "markdown",
   "metadata": {},
   "source": [
    "Ejercicio 17\n",
    "\n",
    "•Utilizar los paquetes BeautifulSoup y request para imprimir una lista de los títulos de la página principal del New York Times.\n"
   ]
  },
  {
   "cell_type": "code",
   "execution_count": null,
   "metadata": {
    "collapsed": true
   },
   "outputs": [],
   "source": []
  }
 ],
 "metadata": {
  "kernelspec": {
   "display_name": "Python 3",
   "language": "python",
   "name": "python3"
  },
  "language_info": {
   "codemirror_mode": {
    "name": "ipython",
    "version": 3
   },
   "file_extension": ".py",
   "mimetype": "text/x-python",
   "name": "python",
   "nbconvert_exporter": "python",
   "pygments_lexer": "ipython3",
   "version": "3.5.1"
  }
 },
 "nbformat": 4,
 "nbformat_minor": 0
}
